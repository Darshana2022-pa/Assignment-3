{
 "cells": [
  {
   "cell_type": "code",
   "execution_count": 4,
   "id": "64616db5",
   "metadata": {},
   "outputs": [
    {
     "data": {
      "text/plain": [
       "[1, 3, 5, 7, 9, 11, 13, 15, 17, 19, 21, 23]"
      ]
     },
     "execution_count": 4,
     "metadata": {},
     "output_type": "execute_result"
    }
   ],
   "source": [
    "#Q1 -> Ans :def keyword is used to create a function\n",
    "def oddnumbers():\n",
    "    li = []\n",
    "    for i in range(1,25):\n",
    "        if i%2 != 0:\n",
    "            li.append(i)\n",
    "    return li\n",
    "\n",
    "oddnumbers()\n"
   ]
  },
  {
   "cell_type": "code",
   "execution_count": 5,
   "id": "cdf53a28",
   "metadata": {},
   "outputs": [
    {
     "name": "stdout",
     "output_type": "stream",
     "text": [
      "Darshana Bhuyan\n"
     ]
    }
   ],
   "source": [
    "#Q2 -> Ans: We use *args and **kwargs as an argument when we are unsure about the number of arguments to pass in the functions.\n",
    "#a function for *args:\n",
    "def my_function(fname, lname):\n",
    "  print(fname + \" \" + lname)\n",
    "\n",
    "my_function(\"Darshana\", \"Bhuyan\")"
   ]
  },
  {
   "cell_type": "code",
   "execution_count": 6,
   "id": "72dcbea2",
   "metadata": {},
   "outputs": [
    {
     "name": "stdout",
     "output_type": "stream",
     "text": [
      "first == Geeks\n",
      "mid == for\n",
      "last == Geeks\n"
     ]
    }
   ],
   "source": [
    "#Q2-> function for **kwargs\n",
    "def myFun(**kwargs):\n",
    "    for key, value in kwargs.items():\n",
    "        print(\"%s == %s\" % (key, value))\n",
    "    \n",
    "    \n",
    " \n",
    " \n",
    "myFun(first='Geeks', mid='for', last='Geeks')"
   ]
  },
  {
   "cell_type": "code",
   "execution_count": 8,
   "id": "c3b7db75",
   "metadata": {},
   "outputs": [
    {
     "name": "stdout",
     "output_type": "stream",
     "text": [
      "2\n",
      "4\n",
      "6\n",
      "8\n",
      "10\n"
     ]
    }
   ],
   "source": [
    "#Q3-> Iterators are objects that allow you to traverse through all the elements of a collection and return one element at a time.\n",
    "#-> The Python iterators object is initialized using the iter() method. It uses the next() method for iteration.\n",
    "\n",
    "l=[2, 4, 6, 8, 10, 12, 14, 16, 18, 20]\n",
    "count=0\n",
    "for i in l:\n",
    "    if count<5:\n",
    "        print(i)\n",
    "        count+=1\n",
    "\n",
    "\n",
    "\n"
   ]
  },
  {
   "cell_type": "code",
   "execution_count": 10,
   "id": "ae28731b",
   "metadata": {},
   "outputs": [
    {
     "name": "stdout",
     "output_type": "stream",
     "text": [
      "0\n",
      "2\n",
      "4\n",
      "6\n",
      "8\n"
     ]
    }
   ],
   "source": [
    "#Q4-> Ans: A generator function in Python is a special type of function that returns a generator iterator, which can be used to iterate over a sequence of elements. \n",
    "#A generator function is defined like a normal function, but instead of using the return statement to return a value, it uses the yield statement. \n",
    "#The yield statement is used to produce a value, and the generator function can be resumed from where it left off the next time next() is called on the generator.\n",
    "# example :\n",
    "def simple():\n",
    "    for i in range(10):\n",
    "        if i % 2 == 0:\n",
    "            yield i\n",
    "simple()\n",
    "for i in simple():  \n",
    "    print(i)  "
   ]
  },
  {
   "cell_type": "code",
   "execution_count": 2,
   "id": "3c7ff103",
   "metadata": {},
   "outputs": [
    {
     "name": "stdout",
     "output_type": "stream",
     "text": [
      "Enter the number: 10\n",
      "0\n",
      "1\n",
      "1\n",
      "2\n",
      "3\n",
      "5\n",
      "8\n"
     ]
    }
   ],
   "source": [
    "#Q6 Fibonacci series using while()\n",
    "n = int(input(\"Enter the number: \"))\n",
    "x = 0\n",
    "y = 1\n",
    "z = 0\n",
    "while (z<=n):\n",
    "    print(z)\n",
    "    x=y\n",
    "    y=z\n",
    "    z=x+y"
   ]
  },
  {
   "cell_type": "code",
   "execution_count": 3,
   "id": "bd23b796",
   "metadata": {},
   "outputs": [
    {
     "name": "stdout",
     "output_type": "stream",
     "text": [
      "['p', 'w', 's', 'k', 'i', 'l', 'l', 's']\n"
     ]
    }
   ],
   "source": [
    "#Q7 list comprehension\n",
    "a = 'pwskills'\n",
    "b = [char for char in a]\n",
    "print(b)"
   ]
  },
  {
   "cell_type": "code",
   "execution_count": 2,
   "id": "8fbfa5ca",
   "metadata": {},
   "outputs": [
    {
     "name": "stdout",
     "output_type": "stream",
     "text": [
      "Enter the number: 525\n",
      "Its palindrome number\n"
     ]
    }
   ],
   "source": [
    "#Q8\n",
    "i = int(input(\"Enter the number: \"))\n",
    "rev = 0\n",
    "x = i\n",
    "while(i>0):\n",
    "    rev = (rev*10)+i%10\n",
    "    i = i//10\n",
    "    \n",
    "if(x==rev):\n",
    "    print(\"Its palindrome number\")\n",
    "else:\n",
    "    print(\"Not palindrome\")"
   ]
  },
  {
   "cell_type": "code",
   "execution_count": null,
   "id": "dcf511c1",
   "metadata": {},
   "outputs": [],
   "source": []
  }
 ],
 "metadata": {
  "kernelspec": {
   "display_name": "Python 3 (ipykernel)",
   "language": "python",
   "name": "python3"
  },
  "language_info": {
   "codemirror_mode": {
    "name": "ipython",
    "version": 3
   },
   "file_extension": ".py",
   "mimetype": "text/x-python",
   "name": "python",
   "nbconvert_exporter": "python",
   "pygments_lexer": "ipython3",
   "version": "3.9.13"
  }
 },
 "nbformat": 4,
 "nbformat_minor": 5
}
